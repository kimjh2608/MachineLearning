{
 "cells": [
  {
   "cell_type": "markdown",
   "metadata": {},
   "source": [
    "## numpy에서 데이터 세트 선택을 위한 indexing 연습\n",
    "- 출처 : 파이썬 완벽 가이드 (권철민 지음)\n",
    "- Github : <https://github.com/wikibook/pymldg-rev>\n",
    "\n",
    "### 인덱싱(indexing) 방법\n",
    "1. 특정 단일 데이터만 추출 : 원하는 위치의 인덱스값을 지정\n",
    "2. 슬라이싱(Slicing) : 연속된 인덱스 상의 ndarray를 추출\n",
    "3. 팬시 인덱싱(Fancy Indexing) : 일정한 인덱싱 집합을 리스트 또는 ndarray 형태로 지정\n",
    "4. 불린 인덱싱(Boolean Indexing) : 특정 조건의 True에 해당하는 인덱스 위치의 ndarray를 추출 "
   ]
  },
  {
   "cell_type": "code",
   "execution_count": 1,
   "metadata": {},
   "outputs": [],
   "source": [
    "import numpy as np"
   ]
  },
  {
   "cell_type": "markdown",
   "metadata": {},
   "source": [
    "### 1. 특정 단일 데이터 추출\n",
    "    - axis = 0 : row 방향 / axis = 1 : column 방향"
   ]
  },
  {
   "cell_type": "code",
   "execution_count": 4,
   "metadata": {},
   "outputs": [
    {
     "name": "stdout",
     "output_type": "stream",
     "text": [
      "[[1 2 3]\n",
      " [4 5 6]\n",
      " [7 8 9]]\n",
      "(row=0, col=0) index 가리키는 값 1\n",
      "(row=0, col=1) index 가리키는 값 2\n",
      "(row=1, col=0) index 가리키는 값 4\n",
      "(row=1, col=1) index 가리키는 값 5\n"
     ]
    }
   ],
   "source": [
    "array1d = np.arange(1,10)\n",
    "array2d = array1d.reshape(3,3)\n",
    "print(array2d)\n",
    "\n",
    "print('(row=0, col=0) index 가리키는 값', array2d[0, 0])\n",
    "print('(row=0, col=1) index 가리키는 값', array2d[0, 1])\n",
    "print('(row=1, col=0) index 가리키는 값', array2d[1, 0])\n",
    "print('(row=1, col=1) index 가리키는 값', array2d[1, 1])"
   ]
  },
  {
   "cell_type": "markdown",
   "metadata": {},
   "source": [
    "### 2. 슬라이싱(Slicing)\n",
    "    - 슬라이싱으로 추출된 데이트는 모두 ndarray값"
   ]
  },
  {
   "cell_type": "code",
   "execution_count": 8,
   "metadata": {},
   "outputs": [
    {
     "name": "stdout",
     "output_type": "stream",
     "text": [
      "[1 2 3 4 5 6 7 8 9]\n",
      "[2 3]\n",
      "[1 2 3]\n",
      "[4 5 6 7 8 9]\n",
      "[1 2 3 4 5 6 7 8 9]\n",
      "<class 'numpy.ndarray'>\n"
     ]
    }
   ],
   "source": [
    "array1 = np.arange(1,10)\n",
    "print(array1)\n",
    "\n",
    "array3 = array1[1:3]\n",
    "print(array3)\n",
    "\n",
    "array4 = array1[:3]\n",
    "print(array4)\n",
    "\n",
    "array5 = array1[3:]\n",
    "print(array5)\n",
    "\n",
    "array6 = array1[:]\n",
    "print(array6)\n",
    "print(type(array6))"
   ]
  },
  {
   "cell_type": "markdown",
   "metadata": {},
   "source": [
    "### 3. 팬시 인덱싱 (Fancy Indexing)"
   ]
  },
  {
   "cell_type": "code",
   "execution_count": 16,
   "metadata": {},
   "outputs": [
    {
     "name": "stdout",
     "output_type": "stream",
     "text": [
      "array2d:\n",
      " [[1 2 3]\n",
      " [4 5 6]\n",
      " [7 8 9]]\n",
      "array3:\n",
      " [3 6]\n",
      "array4:\n",
      " [[1 2]\n",
      " [4 5]]\n",
      "array5:\n",
      " [[1 2 3]\n",
      " [4 5 6]]\n"
     ]
    }
   ],
   "source": [
    "array1d = np.arange(1,10)\n",
    "array2d = array1d.reshape(3,3)\n",
    "print('array2d:\\n', array2d)\n",
    "\n",
    "array3 = array2d[[0,1], 2]\n",
    "print('array3:\\n', array3)\n",
    "\n",
    "array4 = array2d[[0,1], 0:2]\n",
    "print('array4:\\n', array4)\n",
    "\n",
    "array5 = array2d[[0,1]]\n",
    "print('array5:\\n', array5)"
   ]
  },
  {
   "cell_type": "markdown",
   "metadata": {},
   "source": [
    "### 4. 불린 인덱싱 (Boolean Indexing)\n",
    "    - 필터링 조건으로 반환된 Boolean ndarray 객체에 True값이 있는 위치 인덱스값을 자동변환해서 해당 위치의 데이터만 반환 "
   ]
  },
  {
   "cell_type": "code",
   "execution_count": 20,
   "metadata": {},
   "outputs": [
    {
     "name": "stdout",
     "output_type": "stream",
     "text": [
      "(array1d > 5) 조건의 불린 인덱싱 결과 \n",
      " [6 7 8 9]\n",
      "[False False False False False  True  True  True  True]\n"
     ]
    }
   ],
   "source": [
    "array1d = np.arange(1,10)\n",
    "array3 = array1d[array1d > 5]\n",
    "print('(array1d > 5) 조건의 불린 인덱싱 결과 \\n', array3)\n",
    "\n",
    "print(array1d > 5)"
   ]
  }
 ],
 "metadata": {
  "kernelspec": {
   "display_name": "Python 3",
   "language": "python",
   "name": "python3"
  },
  "language_info": {
   "codemirror_mode": {
    "name": "ipython",
    "version": 3
   },
   "file_extension": ".py",
   "mimetype": "text/x-python",
   "name": "python",
   "nbconvert_exporter": "python",
   "pygments_lexer": "ipython3",
   "version": "3.6.10"
  }
 },
 "nbformat": 4,
 "nbformat_minor": 4
}
