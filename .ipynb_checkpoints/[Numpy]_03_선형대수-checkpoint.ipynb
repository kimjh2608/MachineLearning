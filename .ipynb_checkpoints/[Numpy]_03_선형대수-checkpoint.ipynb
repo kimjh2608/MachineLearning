{
 "cells": [
  {
   "cell_type": "markdown",
   "metadata": {},
   "source": [
    "## 선형대수 관련 numpy 기초연습\n",
    "- 출처 : 파이썬 완벽 가이드 (권철민 지음)\n",
    "- Github : <https://github.com/wikibook/pymldg-rev>\n",
    "\n",
    "## 선형대수 관련 메서드\n",
    "1. 행렬의 정렬 - sort(), argsort()\n",
    "2. 행렬의 내적과 전치행렬 - dot(), transpose()"
   ]
  },
  {
   "cell_type": "code",
   "execution_count": 1,
   "metadata": {},
   "outputs": [],
   "source": [
    "import numpy as np"
   ]
  },
  {
   "cell_type": "markdown",
   "metadata": {},
   "source": [
    "### 1. 행렬의 정렬 - sort()\n",
    "- np.sort(ndarray)의 경우, 원본 행렬은 그대로 유지한 채 정렬된 행렬를 반환\n",
    "- ndarray.sort()의 경우, 원본 행렬 자체를 정렬하며, 반환값은 None\n",
    "- np.sort()는 오름차순 정리이며 np.sort()[::-1]은 내림차순 정리"
   ]
  },
  {
   "cell_type": "code",
   "execution_count": 7,
   "metadata": {},
   "outputs": [
    {
     "name": "stdout",
     "output_type": "stream",
     "text": [
      "원본 행렬 :\n",
      " [3 1 9 5]\n",
      "np.sort()로 반환된 정렬행렬 (오름차순 정리):\n",
      " [1 3 5 9]\n",
      "np.sort()로 반환된 원본행렬:\n",
      " [3 1 9 5]\n",
      "np.sort()로 반환된 정렬행렬 (내림차순 정리):\n",
      " [9 5 3 1]\n",
      "np.sort()로 반환된 원본행렬:\n",
      " [3 1 9 5]\n",
      "ndarray.sort()로 반환된 정렬행렬:\n",
      " None\n",
      "ndarray.sort()로 반환된 원본행렬:\n",
      " [1 3 5 9]\n"
     ]
    }
   ],
   "source": [
    "origin_array = np.array([3, 1, 9, 5])\n",
    "print('원본 행렬 :\\n', origin_array)\n",
    "\n",
    "sort_array1 = np.sort(origin_array)\n",
    "print('np.sort()로 반환된 정렬행렬 (오름차순 정리):\\n', sort_array1)\n",
    "print('np.sort()로 반환된 원본행렬:\\n', origin_array)\n",
    "\n",
    "sort_array2 = np.sort(origin_array)[::-1]\n",
    "print('np.sort()로 반환된 정렬행렬 (내림차순 정리):\\n', sort_array2)\n",
    "print('np.sort()로 반환된 원본행렬:\\n', origin_array)\n",
    "\n",
    "sort_array3 = origin_array.sort()\n",
    "print('ndarray.sort()로 반환된 정렬행렬:\\n', sort_array3)\n",
    "print('ndarray.sort()로 반환된 원본행렬:\\n', origin_array)\n"
   ]
  },
  {
   "cell_type": "code",
   "execution_count": 8,
   "metadata": {},
   "outputs": [
    {
     "name": "stdout",
     "output_type": "stream",
     "text": [
      "원본행렬:\n",
      " [[ 8 12]\n",
      " [ 7  1]]\n",
      "axis=0 방향으로 오름차순 정렬 :\n",
      " [[ 7  1]\n",
      " [ 8 12]]\n",
      "axis=1 방향으로 오름차순 정렬 :\n",
      " [[ 7  1]\n",
      " [ 8 12]]\n"
     ]
    }
   ],
   "source": [
    "array2d = np.array([[8, 12],\n",
    "                   [7, 1]])\n",
    "\n",
    "print('원본행렬:\\n', array2d)\n",
    "\n",
    "sort_array2d_axis0 = np.sort(array2d, axis = 0)\n",
    "print('axis=0 방향으로 오름차순 정렬 :\\n', sort_array2d_axis0)\n",
    "\n",
    "sort_array2d_axis1 = np.sort(array2d, axis = 1)\n",
    "print('axis=1 방향으로 오름차순 정렬 :\\n', sort_array2d_axis0)\n"
   ]
  },
  {
   "cell_type": "markdown",
   "metadata": {},
   "source": [
    "### 2. 행렬의 정렬 - argsort()\n",
    "- np.argsort()의 경우, 정렬된 행렬의 원본 행렬 인덱스를 ndarray 형으로 반환\n",
    "- 원본 행렬이 정렬되었을 때, 기존 행렬의 원소에 대한 인덱스가 필요할 때 사용\n",
    "- arg의 의미 : **argument = 인수**로 행렬(또는 array)의 인덱스와 관련"
   ]
  },
  {
   "cell_type": "code",
   "execution_count": 16,
   "metadata": {},
   "outputs": [
    {
     "name": "stdout",
     "output_type": "stream",
     "text": [
      "원본 행렬:\n",
      " [3 1 9 5]\n",
      "오름차순 정렬 행렬:\n",
      " [1 3 5 9]\n",
      "오름차순 정렬 행렬에서 원본 행렬의 인덱스: \n",
      " [1 0 3 2]\n",
      "<class 'numpy.ndarray'>\n",
      "내림차순 정렬 행렬:\n",
      " [9 5 3 1]\n",
      "오름차순 정렬 행렬에서 원본 행렬의 인덱스: \n",
      " [2 3 0 1]\n",
      "<class 'numpy.ndarray'>\n"
     ]
    }
   ],
   "source": [
    "origin_array = np.array([3, 1, 9, 5])\n",
    "print(\"원본 행렬:\\n\", origin_array)\n",
    "\n",
    "sort_array1 = np.sort(origin_array)\n",
    "print(\"오름차순 정렬 행렬:\\n\", sort_array1)\n",
    "                         \n",
    "sort_indices1 = np.argsort(origin_array)\n",
    "print(\"오름차순 정렬 행렬에서 원본 행렬의 인덱스: \\n\", sort_indices1)\n",
    "print(type(sort_indices1))\n",
    "\n",
    "sort_array2 = np.sort(origin_array)[::-1]\n",
    "print(\"내림차순 정렬 행렬:\\n\", sort_array2)\n",
    "                         \n",
    "sort_indices2 = np.argsort(origin_array)[::-1]\n",
    "print(\"오름차순 정렬 행렬에서 원본 행렬의 인덱스: \\n\", sort_indices2)\n",
    "print(type(sort_indices2))"
   ]
  },
  {
   "cell_type": "markdown",
   "metadata": {},
   "source": [
    "### 2.1 행렬의 정렬 - argsort()의 활용에는\n",
    "- numpy는 pandas와 달리 실제값과 그 값이 뜻하는 메타 데이터를 별도의 ndarray로 각각 가져야한다\n",
    "- 예를 들어, 학생별 시험성적 데이터에서 **학생이름**과 **시험성적**을 각각 ndarray로 가져야 한다.\n",
    "- 이때, 시험성적 순으로 학생이름을 출력하고자 한다면 np.argsort() 반환 인덱스를 score ndarray에 인덱스로 적용해 추출한다"
   ]
  },
  {
   "cell_type": "code",
   "execution_count": 17,
   "metadata": {},
   "outputs": [
    {
     "name": "stdout",
     "output_type": "stream",
     "text": [
      "시험성적을 오름차순 정렬 시 원본행렬의 인덱스 : \n",
      " [0 2 1]\n",
      "시험성적 오름차순으로 학생이름 출력 : \n",
      " ['John' 'Kate' 'Mike']\n"
     ]
    }
   ],
   "source": [
    "name_array = np.array(['John', 'Mike', 'Kate'])\n",
    "score_array = np.array([78, 95, 84])\n",
    "\n",
    "sort_indices_score = np.argsort(score_array)\n",
    "print('시험성적을 오름차순 정렬 시 원본행렬의 인덱스 : \\n', sort_indices_score)\n",
    "print('시험성적 오름차순으로 학생이름 출력 : \\n', name_array[sort_indices_score])"
   ]
  },
  {
   "cell_type": "markdown",
   "metadata": {},
   "source": [
    "### 3. 선형대수 연산 - 내적 (np.dot()) , 전치 (np.transpose())"
   ]
  },
  {
   "cell_type": "code",
   "execution_count": 38,
   "metadata": {},
   "outputs": [
    {
     "name": "stdout",
     "output_type": "stream",
     "text": [
      "(2, 3)\n",
      "(3, 2)\n",
      "행렬 A,B의 내적결과: \n",
      " [[ 58  64]\n",
      " [139 154]]\n",
      "(2, 2)\n",
      "--------------------------------------------------------------------------------\n",
      "원본행렬\n",
      ":[[1 2 3]\n",
      " [4 5 6]] \n",
      "shape:(2, 3) \n",
      "\n",
      "전치행렬\n",
      ":[[1 4]\n",
      " [2 5]\n",
      " [3 6]] \n",
      "shape:(3, 2) \n",
      "\n"
     ]
    }
   ],
   "source": [
    "A = np.array([[1,2,3],\n",
    "             [4,5,6]])\n",
    "print(A.shape)\n",
    "\n",
    "B = np.array([[7,8],\n",
    "             [9,10],\n",
    "             [11,12]])\n",
    "print(B.shape)\n",
    "\n",
    "dot_product = np.dot(A,B)\n",
    "print('행렬 A,B의 내적결과: \\n', dot_product)\n",
    "print(dot_product.shape)\n",
    "\n",
    "print('-'*80)\n",
    "\n",
    "transpose_mat = np.transpose(A)\n",
    "print('원본행렬\\n:{0} \\nshape:{1} \\n'.format(A, A.shape))\n",
    "print('전치행렬\\n:{0} \\nshape:{1} \\n'.format(transpose_mat, transpose_mat.shape))"
   ]
  }
 ],
 "metadata": {
  "kernelspec": {
   "display_name": "Python 3",
   "language": "python",
   "name": "python3"
  },
  "language_info": {
   "codemirror_mode": {
    "name": "ipython",
    "version": 3
   },
   "file_extension": ".py",
   "mimetype": "text/x-python",
   "name": "python",
   "nbconvert_exporter": "python",
   "pygments_lexer": "ipython3",
   "version": "3.6.10"
  }
 },
 "nbformat": 4,
 "nbformat_minor": 4
}
