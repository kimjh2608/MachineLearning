{
 "cells": [
  {
   "cell_type": "markdown",
   "metadata": {},
   "source": [
    "## numpy 기초 연습\n",
    "- 출처 : 파이썬 완벽 가이드 (권철민 지음)\n",
    "- Github : <https://github.com/wikibook/pymldg-rev>\n",
    "\n",
    "### numpy 소개\n",
    "1. Python 내 numpy 패키지는 **선형대수** 기반의 프로그램을 작성하기 위한 빠른 **배열연산** 속도를 보장한다. "
   ]
  },
  {
   "cell_type": "code",
   "execution_count": 36,
   "metadata": {},
   "outputs": [],
   "source": [
    "import numpy as np"
   ]
  },
  {
   "cell_type": "markdown",
   "metadata": {},
   "source": [
    "입력 데이터의 차원(shape)\n",
    "- 입력 데이터의 차원을 확인하는 것은 데이터 세트 간의 입출력 변환 시 필수적 요소\n",
    "- 머신러닝 알고리즘 인자로 입력 시 필요한 데이터 형 변환 필요"
   ]
  },
  {
   "cell_type": "code",
   "execution_count": 47,
   "metadata": {},
   "outputs": [
    {
     "name": "stdout",
     "output_type": "stream",
     "text": [
      "array1 type : <class 'numpy.ndarray'>\n",
      "array1 shape : (3,)\n",
      "array1 dtype : int32\n",
      "array1 dimension : 1\n",
      "\n",
      "\n",
      "array2 type : <class 'numpy.ndarray'>\n",
      "array2 shape : (2, 3)\n",
      "array2 dtype : int32\n",
      "array2 dimension : 2\n",
      "\n",
      "\n",
      "array3 type : <class 'numpy.ndarray'>\n",
      "array3 shape : (1, 3)\n",
      "array3 dtype : int32\n",
      "array3 dimension : 2\n"
     ]
    }
   ],
   "source": [
    "array1 = np.array([1,2,3]) # ndarray (또는 numpy 배열) 로 변환하기 위한 인자를 리스트 객체로 입력 \n",
    "print('array1 type :', type(array1)) \n",
    "print('array1 shape :', array1.shape) # (3,) > 1차원 배열 / Element 수 3개 (리턴값 tuple형)\n",
    "print('array1 dtype :', array1.dtype) # int32\n",
    "print('array1 dimension :', array1.ndim)\n",
    "print('\\n')\n",
    "\n",
    "array2 = np.array([[1,2,3], \n",
    "                   [4,5,6]]) \n",
    "print('array2 type :', type(array2))\n",
    "print('array2 shape :', array2.shape) # (2,3) > 2차원 배열 / Element 수 6개\n",
    "print('array2 dtype :', array2.dtype)\n",
    "print('array2 dimension :', array2.ndim)\n",
    "print('\\n')\n",
    "\n",
    "array3 = np.array([[1,2,3]]) \n",
    "print('array3 type :', type(array3))\n",
    "print('array3 shape :', array3.shape) #(1,3) > 2차원 배열 / Element 수 3개\n",
    "print('array3 dtype :', array3.dtype)\n",
    "print('array3 dimension :', array3.ndim)"
   ]
  },
  {
   "cell_type": "markdown",
   "metadata": {},
   "source": [
    "### ndarray 데이터 타입\n",
    "- 다른 데이터 타입을 가질 수 있는 **리스트**와 달리 ndarray는 같은 데이터 타입만 가능\n",
    "- 따라서, 다른 데이터형이 섞여 있는 리스트를 ndarray로 변환하면 **데이터 크기**가 큰 타입으로 형 변환을 일괄적용!"
   ]
  },
  {
   "cell_type": "code",
   "execution_count": 49,
   "metadata": {},
   "outputs": [
    {
     "name": "stdout",
     "output_type": "stream",
     "text": [
      "['1' '2' 'test'] <U11\n",
      "[1. 2. 3.] float64\n"
     ]
    }
   ],
   "source": [
    "list1 = [1, 2, 'test']\n",
    "array1 = np.array(list1)\n",
    "print(array1, array1.dtype) # 숫자형값이 모두 문자열로 일괄 변환\n",
    "\n",
    "list2 = [1, 2, 3.0]\n",
    "array2 = np.array(list2)\n",
    "print(array2, array2.dtype) # int형 값들이 모두 float64로 일괄 변환"
   ]
  },
  {
   "cell_type": "markdown",
   "metadata": {},
   "source": [
    "### ndarray 데이터 타입변경\n",
    "- ndarray 데이터의 타입 변경은 astype() 메서드를 사용\n",
    "- 데이터 타입을 변경하는 것은 **대용량의 ndarray를 만들때** 메모리를 절약하기 위함\n",
    "    \n",
    "    예) 데이터 타입이 float형이라면 int형으로 변환하여 메모리 절약"
   ]
  },
  {
   "cell_type": "code",
   "execution_count": 50,
   "metadata": {},
   "outputs": [
    {
     "name": "stdout",
     "output_type": "stream",
     "text": [
      "[1. 2. 3.] float64\n"
     ]
    }
   ],
   "source": [
    "array_int = np.array([1, 2, 3])\n",
    "array_float = array_int.astype('float64')\n",
    "print(array_float, array_float.dtype)"
   ]
  },
  {
   "cell_type": "markdown",
   "metadata": {},
   "source": [
    "### ndarray 편리생성을 위한 메서드 : np.arange(), np.zeros(), np.ones()"
   ]
  },
  {
   "cell_type": "code",
   "execution_count": 54,
   "metadata": {},
   "outputs": [
    {
     "name": "stdout",
     "output_type": "stream",
     "text": [
      "[0 1 2 3 4 5 6 7 8 9]\n",
      "int32 (10,)\n",
      "[[0 0]\n",
      " [0 0]\n",
      " [0 0]]\n",
      "int32 (3, 2)\n",
      "[[1. 1.]\n",
      " [1. 1.]\n",
      " [1. 1.]]\n",
      "float64 (3, 2)\n"
     ]
    }
   ],
   "source": [
    "sequence_array = np.arange(10)\n",
    "print(sequence_array)\n",
    "print(sequence_array.dtype, sequence_array.shape)\n",
    "\n",
    "zero_array = np.zeros((3,2), dtype='int32')\n",
    "print(zero_array)\n",
    "print(zero_array.dtype, zero_array.shape)\n",
    "\n",
    "one_array = np.ones((3,2)) #dtype을 정해주지 않으면 default로 float64형 데이터 생성\n",
    "print(one_array)\n",
    "print(one_array.dtype, one_array.shape)"
   ]
  },
  {
   "cell_type": "markdown",
   "metadata": {},
   "source": [
    "### ndarray 차원과 크기를 변경하는 메서드 : ndarray의 reshape()"
   ]
  },
  {
   "cell_type": "code",
   "execution_count": 58,
   "metadata": {},
   "outputs": [
    {
     "name": "stdout",
     "output_type": "stream",
     "text": [
      "array1:\n",
      " [0 1 2 3 4 5 6 7 8 9]\n",
      "array2:\n",
      " [[0 1 2 3 4]\n",
      " [5 6 7 8 9]]\n",
      "array3:\n",
      " [[0 1]\n",
      " [2 3]\n",
      " [4 5]\n",
      " [6 7]\n",
      " [8 9]]\n"
     ]
    }
   ],
   "source": [
    "array1 = np.arange(10)\n",
    "print('array1:\\n', array1)\n",
    "\n",
    "array2 = array1.reshape(2,5)\n",
    "print('array2:\\n', array2)\n",
    "\n",
    "array3 = array1.reshape(-1,2) # 2차원 ndarray로 변환 시 column 고정값에 맞는 row 개수 자동생성\n",
    "print('array3:\\n', array3)"
   ]
  },
  {
   "cell_type": "code",
   "execution_count": 71,
   "metadata": {},
   "outputs": [
    {
     "name": "stdout",
     "output_type": "stream",
     "text": [
      "array1:\n",
      " [0, 1, 2, 3, 4, 5, 6, 7]\n",
      "array1:\n",
      " (8,)\n",
      "--------------------------------------------------------------------------------\n",
      "array3d:\n",
      " [[[0, 1], [2, 3]], [[4, 5], [6, 7]]]\n",
      "array3d:\n",
      " (2, 2, 2)\n",
      "--------------------------------------------------------------------------------\n",
      "array4:\n",
      " [[0], [1], [2], [3], [4], [5], [6], [7]]\n",
      "array4:\n",
      " (8, 1)\n",
      "--------------------------------------------------------------------------------\n",
      "array5:\n",
      " [[0], [1], [2], [3], [4], [5], [6], [7]]\n",
      "array5:\n",
      " (8, 1)\n",
      "--------------------------------------------------------------------------------\n",
      "array6:\n",
      " [0, 1, 2, 3, 4, 5, 6, 7]\n",
      "array6:\n",
      " (8,)\n"
     ]
    }
   ],
   "source": [
    "array1 = np.arange(8) # 1차원 ndarray 생성\n",
    "print('array1:\\n', array1.tolist())\n",
    "print('array1:\\n', array1.shape)\n",
    "print('-'*80)\n",
    "\n",
    "array3d = array1.reshape((2,2,2)) #1차원 ndarray를 3차원 ndarray로 변환\n",
    "print('array3d:\\n', array3d.tolist())\n",
    "print('array3d:\\n', array3d.shape)\n",
    "print('-'*80)\n",
    "\n",
    "array4 = array3d.reshape(-1,1) # 3차원 ndarray를 2차원 ndarray로 변환\n",
    "print('array4:\\n', array4.tolist())\n",
    "print('array4:\\n', array4.shape)\n",
    "print('-'*80)\n",
    "\n",
    "array5 = array1.reshape(-1,1) # 1차원 ndarray를 2차원 ndarray로 변환\n",
    "print('array5:\\n', array5.tolist())\n",
    "print('array5:\\n', array5.shape)\n",
    "print('-'*80)\n",
    "\n",
    "array6 = array5.reshape(-1)\n",
    "print('array6:\\n', array6.tolist()) # 2차원 ndarray를 1차원 ndarray로 변환\n",
    "print('array6:\\n', array6.shape)"
   ]
  }
 ],
 "metadata": {
  "kernelspec": {
   "display_name": "Python 3",
   "language": "python",
   "name": "python3"
  },
  "language_info": {
   "codemirror_mode": {
    "name": "ipython",
    "version": 3
   },
   "file_extension": ".py",
   "mimetype": "text/x-python",
   "name": "python",
   "nbconvert_exporter": "python",
   "pygments_lexer": "ipython3",
   "version": "3.6.10"
  }
 },
 "nbformat": 4,
 "nbformat_minor": 4
}
